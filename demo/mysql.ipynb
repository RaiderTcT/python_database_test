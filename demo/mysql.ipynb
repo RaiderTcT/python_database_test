{
 "cells": [
  {
   "cell_type": "code",
   "execution_count": 24,
   "metadata": {},
   "outputs": [],
   "source": [
    "import pymysql\n",
    "import csv"
   ]
  },
  {
   "cell_type": "code",
   "execution_count": 16,
   "metadata": {},
   "outputs": [],
   "source": [
    "user = 'root'\n",
    "passwd = ''"
   ]
  },
  {
   "cell_type": "code",
   "execution_count": 32,
   "metadata": {},
   "outputs": [],
   "source": [
    "# 创建连接\n",
    "conn = pymysql.connect(host='127.0.0.1', port=3306, user='root', passwd=passwd, db='myemployees', charset='utf8')"
   ]
  },
  {
   "cell_type": "code",
   "execution_count": 33,
   "metadata": {},
   "outputs": [],
   "source": [
    "cursor = conn.cursor(cursor=pymysql.cursors.DictCursor)\n",
    "# 以字典表形式返回"
   ]
  },
  {
   "cell_type": "code",
   "execution_count": 30,
   "metadata": {},
   "outputs": [],
   "source": [
    "conn.cursor?"
   ]
  },
  {
   "cell_type": "code",
   "execution_count": 34,
   "metadata": {},
   "outputs": [
    {
     "data": {
      "text/plain": [
       "23"
      ]
     },
     "execution_count": 34,
     "metadata": {},
     "output_type": "execute_result"
    }
   ],
   "source": [
    "# 执行SQL，并返回收影响行数\n",
    "effect_row = cursor.execute(\"select * from locations\")\n",
    "effect_row"
   ]
  },
  {
   "cell_type": "code",
   "execution_count": 20,
   "metadata": {},
   "outputs": [
    {
     "data": {
      "text/plain": [
       "23"
      ]
     },
     "execution_count": 20,
     "metadata": {},
     "output_type": "execute_result"
    }
   ],
   "source": [
    "# 更新数据\n",
    "cursor.execute(\"select * from locations\")"
   ]
  },
  {
   "cell_type": "code",
   "execution_count": 37,
   "metadata": {},
   "outputs": [
    {
     "data": {
      "text/plain": [
       "(('location_id', 3, None, 11, 11, 0, False),\n",
       " ('street_address', 253, None, 40, 40, 0, True),\n",
       " ('postal_code', 253, None, 12, 12, 0, True),\n",
       " ('city', 253, None, 30, 30, 0, True),\n",
       " ('state_province', 253, None, 25, 25, 0, True),\n",
       " ('country_id', 253, None, 2, 2, 0, True))"
      ]
     },
     "execution_count": 37,
     "metadata": {},
     "output_type": "execute_result"
    }
   ],
   "source": [
    "# 获取返回的数据 的描述 desc\n",
    "cursor.description"
   ]
  },
  {
   "cell_type": "code",
   "execution_count": 36,
   "metadata": {},
   "outputs": [
    {
     "data": {
      "text/plain": [
       "((1000, '1297 Via Cola di Rie', '00989', 'Roma', 'Roma', 'IT'),\n",
       " (1100, '93091 Calle della Testa', '10934', 'Venice', None, 'IT'))"
      ]
     },
     "execution_count": 36,
     "metadata": {},
     "output_type": "execute_result"
    }
   ],
   "source": [
    "cursor.fetchmany(2)  # 多条数据"
   ]
  },
  {
   "cell_type": "code",
   "execution_count": 23,
   "metadata": {},
   "outputs": [
    {
     "data": {
      "text/plain": [
       "{'location_id': 1100,\n",
       " 'street_address': '93091 Calle della Testa',\n",
       " 'postal_code': '10934',\n",
       " 'city': 'Venice',\n",
       " 'state_province': None,\n",
       " 'country_id': 'IT'}"
      ]
     },
     "execution_count": 23,
     "metadata": {},
     "output_type": "execute_result"
    }
   ],
   "source": [
    "cursor.fetchone()"
   ]
  },
  {
   "cell_type": "code",
   "execution_count": 26,
   "metadata": {},
   "outputs": [],
   "source": [
    "csv.writer?"
   ]
  },
  {
   "cell_type": "code",
   "execution_count": 49,
   "metadata": {},
   "outputs": [],
   "source": [
    "# 从mysql中读取数据写入csv中\n",
    "def write_sql_to_file(file_name, sql, conn, with_header=True, delimiter=',',\n",
    "                      quotechar='\"', quoting=csv.QUOTE_NONNUMERIC, con_sscursor=False):\n",
    "    cur = conn.cursor(pymysql.cursors.SSCursor) if con_sscursor else conn.cursor()\n",
    "    cur.execute(sql)\n",
    "    with open(file_name, 'w') as file:\n",
    "        csv_writer = csv.writer(file, delimiter=delimiter, quotechar=quotechar, quoting=quoting)\n",
    "        if with_header:\n",
    "            header = [desc[0] for desc in cur.description]\n",
    "            print(header)\n",
    "            csv_writer.writerow(header)\n",
    "        if con_sscursor:  # 读取大量数据\n",
    "            while True:\n",
    "                x = cur.fetchone()\n",
    "                if x:\n",
    "                    csv_writer.writerow(x)\n",
    "                else:\n",
    "                    break\n",
    "        else:\n",
    "            for x in cur.fetchall():\n",
    "                csv_writer.writerow(x)\n",
    "        cur.close()\n",
    "    "
   ]
  },
  {
   "cell_type": "code",
   "execution_count": 50,
   "metadata": {},
   "outputs": [
    {
     "name": "stdout",
     "output_type": "stream",
     "text": [
      "['location_id', 'street_address', 'postal_code', 'city', 'state_province', 'country_id']\n"
     ]
    }
   ],
   "source": [
    "write_sql_to_file('locations.csv', 'select * from locations', conn)"
   ]
  },
  {
   "cell_type": "markdown",
   "metadata": {},
   "source": [
    "## sql 注入"
   ]
  },
  {
   "cell_type": "code",
   "execution_count": 51,
   "metadata": {},
   "outputs": [
    {
     "data": {
      "text/plain": [
       "5"
      ]
     },
     "execution_count": 51,
     "metadata": {},
     "output_type": "execute_result"
    }
   ],
   "source": [
    "query = \"SELECT employee_id, first_name FROM employees WHERE employee_id < {}\"\n",
    "# 正常查询\n",
    "cursor.execute(query.format(105))\n"
   ]
  },
  {
   "cell_type": "code",
   "execution_count": 60,
   "metadata": {},
   "outputs": [],
   "source": [
    "cursor.execute?"
   ]
  },
  {
   "cell_type": "code",
   "execution_count": 52,
   "metadata": {},
   "outputs": [
    {
     "data": {
      "text/plain": [
       "110"
      ]
     },
     "execution_count": 52,
     "metadata": {},
     "output_type": "execute_result"
    }
   ],
   "source": [
    "# sql注入\n",
    "cursor.execute(query.format('105 or 1'))"
   ]
  },
  {
   "cell_type": "code",
   "execution_count": 54,
   "metadata": {},
   "outputs": [
    {
     "data": {
      "text/plain": [
       "5"
      ]
     },
     "execution_count": 54,
     "metadata": {},
     "output_type": "execute_result"
    }
   ],
   "source": [
    "# 构造预编译模板化执行sql语句，防止sql注入\n",
    "cursor.execute(\"SELECT employee_id, first_name FROM employees WHERE employee_id < %s\", (105,))"
   ]
  },
  {
   "cell_type": "code",
   "execution_count": 55,
   "metadata": {},
   "outputs": [
    {
     "name": "stderr",
     "output_type": "stream",
     "text": [
      "d:\\python3.7\\lib\\site-packages\\pymysql\\cursors.py:170: Warning: (1292, \"Truncated incorrect DOUBLE value: '105 or 1'\")\n",
      "  result = self._query(query)\n"
     ]
    },
    {
     "data": {
      "text/plain": [
       "5"
      ]
     },
     "execution_count": 55,
     "metadata": {},
     "output_type": "execute_result"
    }
   ],
   "source": [
    "cursor.execute(\"SELECT employee_id, first_name FROM employees WHERE employee_id < %s\", ('105 or 1',))"
   ]
  },
  {
   "cell_type": "code",
   "execution_count": 13,
   "metadata": {},
   "outputs": [],
   "source": [
    "# # 提交，不然无法保存新建或者修改的数据\n",
    "conn.commit()"
   ]
  },
  {
   "cell_type": "code",
   "execution_count": 56,
   "metadata": {},
   "outputs": [],
   "source": [
    "# 关闭游标\n",
    "cursor.close()\n",
    "# 关闭连接\n",
    "conn.close()"
   ]
  },
  {
   "cell_type": "markdown",
   "metadata": {},
   "source": [
    "## 使用上下文管理器 自动关闭连接\n"
   ]
  },
  {
   "cell_type": "code",
   "execution_count": 58,
   "metadata": {},
   "outputs": [],
   "source": [
    "from contextlib import contextmanager\n",
    "\n",
    "@contextmanager\n",
    "def mysql(host='127.0.0.1', port=3306, user='root', passwd='', db='myemployees', charset='utf8', cur=None):\n",
    "    conn = pymysql.connect(host=host, port=port, user=user, passwd=passwd, db=db, charset=charset)\n",
    "    cursor = conn.cursor(cursor=cur) if cur else conn.cursor()\n",
    "    try:\n",
    "        yield cursor\n",
    "    finally:\n",
    "        conn.commit()\n",
    "        cursor.close()\n",
    "        conn.close()"
   ]
  },
  {
   "cell_type": "code",
   "execution_count": 61,
   "metadata": {},
   "outputs": [
    {
     "name": "stdout",
     "output_type": "stream",
     "text": [
      "110\n",
      "(('employee_id', 3, None, 6, 6, 0, False), ('first_name', 253, None, 20, 20, 0, True), ('last_name', 253, None, 25, 25, 0, True), ('email', 253, None, 25, 25, 0, True), ('phone_number', 253, None, 20, 20, 0, True), ('job_id', 253, None, 10, 10, 0, True), ('salary', 5, None, 10, 10, 2, True), ('commission_pct', 5, None, 4, 4, 2, True), ('manager_id', 3, None, 6, 6, 0, True), ('department_id', 3, None, 4, 4, 0, True), ('hiredate', 12, None, 19, 19, 0, True))\n",
      "{'employee_id': 100, 'first_name': 'Steven', 'last_name': 'K_ing', 'email': 'SKING', 'phone_number': '515.123.4567', 'job_id': 'AD_PRES', 'salary': 24000.0, 'commission_pct': None, 'manager_id': None, 'department_id': 90, 'hiredate': datetime.datetime(1992, 4, 3, 0, 0)}\n"
     ]
    }
   ],
   "source": [
    "with mysql(cur=pymysql.cursors.DictCursor) as cursor:\n",
    "    effect_rows = cursor.execute('select * from employees')\n",
    "    print(effect_rows)\n",
    "    print(cursor.description)\n",
    "    print(cursor.fetchone())"
   ]
  },
  {
   "cell_type": "code",
   "execution_count": null,
   "metadata": {},
   "outputs": [],
   "source": []
  }
 ],
 "metadata": {
  "kernelspec": {
   "display_name": "Python 3",
   "language": "python",
   "name": "python3"
  },
  "language_info": {
   "codemirror_mode": {
    "name": "ipython",
    "version": 3
   },
   "file_extension": ".py",
   "mimetype": "text/x-python",
   "name": "python",
   "nbconvert_exporter": "python",
   "pygments_lexer": "ipython3",
   "version": "3.7.2rc1"
  }
 },
 "nbformat": 4,
 "nbformat_minor": 2
}
